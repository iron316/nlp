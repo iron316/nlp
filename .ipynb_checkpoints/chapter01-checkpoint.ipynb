{
 "cells": [
  {
   "cell_type": "code",
   "execution_count": 98,
   "metadata": {},
   "outputs": [],
   "source": [
    "import random"
   ]
  },
  {
   "cell_type": "code",
   "execution_count": 7,
   "metadata": {},
   "outputs": [
    {
     "name": "stdout",
     "output_type": "stream",
     "text": [
      "desserts\n"
     ]
    }
   ],
   "source": [
    "#0\n",
    "text = 'stressed'\n",
    "out = ''.join(list(reversed(text)))\n",
    "print(out)\n"
   ]
  },
  {
   "cell_type": "code",
   "execution_count": 62,
   "metadata": {},
   "outputs": [
    {
     "name": "stdout",
     "output_type": "stream",
     "text": [
      "パトカー\n"
     ]
    }
   ],
   "source": [
    "#1\n",
    "text = \"パタトクカシーー\"\n",
    "out = ''.join([list(text)[x] for x in range(0,len(text),2)])\n",
    "print(out)"
   ]
  },
  {
   "cell_type": "code",
   "execution_count": 63,
   "metadata": {},
   "outputs": [
    {
     "name": "stdout",
     "output_type": "stream",
     "text": [
      "パタトクカシーー\n"
     ]
    }
   ],
   "source": [
    "#2\n",
    "text1 = 'パトカー'\n",
    "text2 = 'タクシー'\n",
    "out =''\n",
    "for t1,t2 in zip(text1,text2):\n",
    "    out = out + t1 + t2\n",
    "\n",
    "print(out)"
   ]
  },
  {
   "cell_type": "code",
   "execution_count": 64,
   "metadata": {},
   "outputs": [
    {
     "name": "stdout",
     "output_type": "stream",
     "text": [
      "[3, 1, 4, 1, 6, 9, 2, 7, 5, 3, 5, 8, 9, 7, 10]\n"
     ]
    }
   ],
   "source": [
    "#3\n",
    "text = 'Now I need a drink, alcoholic of course, after the heavy lectures involving quantum mechanics.'\n",
    "text_list = text.split(' ')\n",
    "len_text_list = [len(t) for t in text_list]\n",
    "print(len_text_list)"
   ]
  },
  {
   "cell_type": "code",
   "execution_count": 72,
   "metadata": {},
   "outputs": [
    {
     "name": "stdout",
     "output_type": "stream",
     "text": [
      "{0: 'H', 1: 'He', 2: 'Li', 3: 'Be', 4: 'B', 5: 'C', 6: 'N', 7: 'O', 8: 'F', 9: 'Ne', 10: 'Na', 11: 'Mi', 12: 'Al', 13: 'Si', 14: 'P', 15: 'S', 16: 'Cl', 17: 'Ar', 18: 'K', 19: 'Ca'}\n"
     ]
    }
   ],
   "source": [
    "#4\n",
    "text = \"Hi He Lied Because Boron Could Not Oxidize Fluorine. New Nations Might Also Sign Peace Security Clause. Arthur King Can.\"\n",
    "fillter_1 = [1, 5, 6, 7, 8, 9, 15, 16, 19]\n",
    "fillter_2 = [i-1 for i in fillter_1]\n",
    "text_list = text.split(' ')\n",
    "d = {}\n",
    "for i, t in enumerate(text_list):\n",
    "    id = len(d)\n",
    "    if i in fillter_2:\n",
    "        d[id] = t[:1]\n",
    "    else :\n",
    "        d[id] = t[:2]\n",
    "print(d)"
   ]
  },
  {
   "cell_type": "code",
   "execution_count": 86,
   "metadata": {},
   "outputs": [
    {
     "name": "stdout",
     "output_type": "stream",
     "text": [
      "(['I a', ' am', 'am ', 'm a', ' an', 'an ', 'n N', ' NL', 'NLP', 'LPe', 'Per'], ['I-am-an', 'am-an-NLPer'])\n"
     ]
    }
   ],
   "source": [
    "#5\n",
    "def n_gram(text, n):\n",
    "    list_text =text.split(' ')\n",
    "    list_char = []\n",
    "    list_word =[]\n",
    "    for i in range(len(text) -n +1):\n",
    "        list_char.append(text[i:i+n])\n",
    "    \n",
    "    for i in range(len(list_text) - n+1):\n",
    "        #list_word.append(list_text[i] + '-' + list_text[i+1])\n",
    "        list_word.append('-'.join(list_text[i+j] for j in range(n)))\n",
    "    return list_char, list_word\n",
    "\n",
    "text = 'I am an NLPer'\n",
    "print(n_gram(text, 3))"
   ]
  },
  {
   "cell_type": "code",
   "execution_count": 90,
   "metadata": {},
   "outputs": [
    {
     "name": "stdout",
     "output_type": "stream",
     "text": [
      "{'gr', 'ad', 'ar', 'ap', 'is', 'ph', 'ra', 'ag', 'pa', 'di', 'se'}\n",
      "{'ap', 'ra', 'ar', 'pa'}\n",
      "{'is', 'di', 'ad', 'se'}\n",
      "True\n"
     ]
    }
   ],
   "source": [
    "#6\n",
    "text1 =  \"paraparaparadise\"\n",
    "text2 = \"paragraph\"\n",
    "list_x, _ = n_gram(text1,2)\n",
    "list_y, _ = n_gram(text2, 2)\n",
    "X = set(list_x)\n",
    "Y = set(list_y)\n",
    "union = X | Y\n",
    "intersection = X & Y\n",
    "difference = X -Y\n",
    "print(union)\n",
    "print(intersection)\n",
    "print(difference)\n",
    "\n",
    "if 'se' in union:\n",
    "    print(True)\n",
    "else:\n",
    "    print(False)"
   ]
  },
  {
   "cell_type": "code",
   "execution_count": 91,
   "metadata": {},
   "outputs": [
    {
     "name": "stdout",
     "output_type": "stream",
     "text": [
      "12時の天気は22.4\n"
     ]
    }
   ],
   "source": [
    "#7\n",
    "def news(x,y,z):\n",
    "    text = str(x) + '時の' + str(y) + 'は' + str(z)\n",
    "    return text\n",
    "\n",
    "print(news(12,'天気', 22.4))"
   ]
  },
  {
   "cell_type": "code",
   "execution_count": 94,
   "metadata": {},
   "outputs": [
    {
     "name": "stdout",
     "output_type": "stream",
     "text": [
      "I am a IRONMAN\n"
     ]
    }
   ],
   "source": [
    "#8\n",
    "def cipher(text):\n",
    "    t_r = ''\n",
    "    for t in text:\n",
    "        if ord(t) in range(97,123):\n",
    "            t_r += chr(219 - ord(t))\n",
    "            continue\n",
    "        t_r += t\n",
    "    return t_r\n",
    "\n",
    "text ='I am a IRONMAN'\n",
    "a = cipher(text)\n",
    "print(cipher(a))"
   ]
  },
  {
   "cell_type": "code",
   "execution_count": 108,
   "metadata": {},
   "outputs": [
    {
     "name": "stdout",
     "output_type": "stream",
     "text": [
      "I co'dlunt bileeve that I could altcaluy usdntnerad what I was rneiadg : the paneehmonl pwoer of the hmaun mind . \n"
     ]
    }
   ],
   "source": [
    "#9\n",
    "text = \"I couldn't believe that I could actually understand what I was reading : the phenomenal power of the human mind .\"\n",
    "words = text.split(' ')\n",
    "new_text = ''\n",
    "for word in words:\n",
    "    if len(word) > 4:\n",
    "        shuffle = list(word[1:-1])\n",
    "        random.shuffle(shuffle)\n",
    "        shuffle.insert(0,word[0])\n",
    "        shuffle.append(word[-1:])\n",
    "        new_word = ''.join(shuffle)\n",
    "        new_text += new_word + ' '\n",
    "        continue\n",
    "    new_text += word + ' '\n",
    "\n",
    "print(new_text)"
   ]
  },
  {
   "cell_type": "code",
   "execution_count": 102,
   "metadata": {},
   "outputs": [
    {
     "data": {
      "text/plain": [
       "'nskjdfvbushfduvlskjdfvk'"
      ]
     },
     "execution_count": 102,
     "metadata": {},
     "output_type": "execute_result"
    }
   ],
   "source": []
  },
  {
   "cell_type": "code",
   "execution_count": null,
   "metadata": {},
   "outputs": [],
   "source": []
  }
 ],
 "metadata": {
  "kernelspec": {
   "display_name": "Python 3",
   "language": "python",
   "name": "python3"
  },
  "language_info": {
   "codemirror_mode": {
    "name": "ipython",
    "version": 3
   },
   "file_extension": ".py",
   "mimetype": "text/x-python",
   "name": "python",
   "nbconvert_exporter": "python",
   "pygments_lexer": "ipython3",
   "version": "3.7.0"
  }
 },
 "nbformat": 4,
 "nbformat_minor": 2
}
