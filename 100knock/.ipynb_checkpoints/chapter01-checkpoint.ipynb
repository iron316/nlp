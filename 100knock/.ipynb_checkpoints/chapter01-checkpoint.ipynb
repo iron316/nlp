{
 "cells": [
  {
   "cell_type": "code",
   "execution_count": 1,
   "metadata": {},
   "outputs": [],
   "source": [
    "import random"
   ]
  },
  {
   "cell_type": "markdown",
   "metadata": {},
   "source": [
    "## 00. 文字列の逆順\n",
    "文字列\"stressed\"の文字を逆に（末尾から先頭に向かって）並べた文字列を得よ．"
   ]
  },
  {
   "cell_type": "code",
   "execution_count": 2,
   "metadata": {},
   "outputs": [
    {
     "name": "stdout",
     "output_type": "stream",
     "text": [
      "desserts\n"
     ]
    }
   ],
   "source": [
    "#0\n",
    "text = 'stressed'\n",
    "out = ''.join(list(reversed(text)))\n",
    "print(out)\n"
   ]
  },
  {
   "cell_type": "markdown",
   "metadata": {},
   "source": [
    "## 01. 「パタトクカシーー」\n",
    "「パタトクカシーー」という文字列の1,3,5,7文字目を取り出して連結した文字列を得よ．"
   ]
  },
  {
   "cell_type": "code",
   "execution_count": 3,
   "metadata": {},
   "outputs": [
    {
     "name": "stdout",
     "output_type": "stream",
     "text": [
      "パトカー\n"
     ]
    }
   ],
   "source": [
    "#1\n",
    "text = \"パタトクカシーー\"\n",
    "out = ''.join([list(text)[x] for x in range(0,len(text),2)])\n",
    "print(out)"
   ]
  },
  {
   "cell_type": "markdown",
   "metadata": {},
   "source": [
    "## 02. 「パトカー」＋「タクシー」＝「パタトクカシーー」\n",
    "「パトカー」＋「タクシー」の文字を先頭から交互に連結して文字列「パタトクカシーー」を得よ．"
   ]
  },
  {
   "cell_type": "code",
   "execution_count": 4,
   "metadata": {
    "scrolled": true
   },
   "outputs": [
    {
     "name": "stdout",
     "output_type": "stream",
     "text": [
      "パタトクカシーー\n"
     ]
    }
   ],
   "source": [
    "#2\n",
    "text1 = 'パトカー'\n",
    "text2 = 'タクシー'\n",
    "out =''\n",
    "for t1,t2 in zip(text1,text2):\n",
    "    out = out + t1 + t2\n",
    "\n",
    "print(out)"
   ]
  },
  {
   "cell_type": "markdown",
   "metadata": {},
   "source": [
    "## 03. 円周率\n",
    "\"Now I need a drink, alcoholic of course, after the heavy lectures involving quantum mechanics.\"という文を単語に分解し，各単語の（アルファベットの）文字数を先頭から出現順に並べたリストを作成せよ．"
   ]
  },
  {
   "cell_type": "code",
   "execution_count": 5,
   "metadata": {},
   "outputs": [
    {
     "name": "stdout",
     "output_type": "stream",
     "text": [
      "[3, 1, 4, 1, 6, 9, 2, 7, 5, 3, 5, 8, 9, 7, 10]\n"
     ]
    }
   ],
   "source": [
    "#3\n",
    "text = 'Now I need a drink, alcoholic of course, after the heavy lectures involving quantum mechanics.'\n",
    "text_list = text.split(' ')\n",
    "len_text_list = [len(t) for t in text_list]\n",
    "print(len_text_list)"
   ]
  },
  {
   "cell_type": "markdown",
   "metadata": {},
   "source": [
    "## 04. 元素記号\n",
    "\"Hi He Lied Because Boron Could Not Oxidize Fluorine. New Nations Might Also Sign Peace Security Clause. Arthur King Can.\"という文を単語に分解し，1, 5, 6, 7, 8, 9, 15, 16, 19番目の単語は先頭の1文字，それ以外の単語は先頭に2文字を取り出し，取り出した文字列から単語の位置（先頭から何番目の単語か）への連想配列（辞書型もしくはマップ型）を作成せよ．"
   ]
  },
  {
   "cell_type": "code",
   "execution_count": 6,
   "metadata": {},
   "outputs": [
    {
     "name": "stdout",
     "output_type": "stream",
     "text": [
      "{0: 'H', 1: 'He', 2: 'Li', 3: 'Be', 4: 'B', 5: 'C', 6: 'N', 7: 'O', 8: 'F', 9: 'Ne', 10: 'Na', 11: 'Mi', 12: 'Al', 13: 'Si', 14: 'P', 15: 'S', 16: 'Cl', 17: 'Ar', 18: 'K', 19: 'Ca'}\n"
     ]
    }
   ],
   "source": [
    "\n",
    "\n",
    "#4\n",
    "text = \"Hi He Lied Because Boron Could Not Oxidize Fluorine. New Nations Might Also Sign Peace Security Clause. Arthur King Can.\"\n",
    "fillter_1 = [1, 5, 6, 7, 8, 9, 15, 16, 19]\n",
    "fillter_2 = [i-1 for i in fillter_1]\n",
    "text_list = text.split(' ')\n",
    "d = {}\n",
    "for i, t in enumerate(text_list):\n",
    "    id = len(d)\n",
    "    if i in fillter_2:\n",
    "        d[id] = t[:1]\n",
    "    else :\n",
    "        d[id] = t[:2]\n",
    "print(d)"
   ]
  },
  {
   "cell_type": "markdown",
   "metadata": {},
   "source": [
    "## 05. n-gram\n",
    "与えられたシーケンス（文字列やリストなど）からn-gramを作る関数を作成せよ．この関数を用い，\"I am an NLPer\"という文から単語bi-gram，文字bi-gramを得よ．"
   ]
  },
  {
   "cell_type": "code",
   "execution_count": 7,
   "metadata": {},
   "outputs": [
    {
     "name": "stdout",
     "output_type": "stream",
     "text": [
      "(['I a', ' am', 'am ', 'm a', ' an', 'an ', 'n N', ' NL', 'NLP', 'LPe', 'Per'], ['I-am-an', 'am-an-NLPer'])\n"
     ]
    }
   ],
   "source": [
    "#5\n",
    "def n_gram(text, n):\n",
    "    list_text =text.split(' ')\n",
    "    list_char = []\n",
    "    list_word =[]\n",
    "    for i in range(len(text) -n +1):\n",
    "        list_char.append(text[i:i+n])\n",
    "    \n",
    "    for i in range(len(list_text) - n+1):\n",
    "        #list_word.append(list_text[i] + '-' + list_text[i+1])\n",
    "        list_word.append('-'.join(list_text[i+j] for j in range(n)))\n",
    "    return list_char, list_word\n",
    "\n",
    "text = 'I am an NLPer'\n",
    "print(n_gram(text, 3))"
   ]
  },
  {
   "cell_type": "markdown",
   "metadata": {},
   "source": [
    "##  06. 集合\n",
    "\"paraparaparadise\"と\"paragraph\"に含まれる文字bi-gramの集合を，それぞれ, XとYとして求め，XとYの和集合，積集合，差集合を求めよ．さらに，'se'というbi-gramがXおよびYに含まれるかどうかを調べよ．"
   ]
  },
  {
   "cell_type": "code",
   "execution_count": 8,
   "metadata": {},
   "outputs": [
    {
     "name": "stdout",
     "output_type": "stream",
     "text": [
      "{'ar', 'se', 'is', 'ph', 'ra', 'pa', 'ap', 'gr', 'di', 'ad', 'ag'}\n",
      "{'pa', 'ar', 'ap', 'ra'}\n",
      "{'ad', 'di', 'se', 'is'}\n",
      "True\n"
     ]
    }
   ],
   "source": [
    "#6\n",
    "text1 =  \"paraparaparadise\"\n",
    "text2 = \"paragraph\"\n",
    "list_x, _ = n_gram(text1,2)\n",
    "list_y, _ = n_gram(text2, 2)\n",
    "X = set(list_x)\n",
    "Y = set(list_y)\n",
    "union = X | Y\n",
    "intersection = X & Y\n",
    "difference = X -Y\n",
    "print(union)\n",
    "print(intersection)\n",
    "print(difference)\n",
    "\n",
    "if 'se' in union:\n",
    "    print(True)\n",
    "else:\n",
    "    print(False)"
   ]
  },
  {
   "cell_type": "markdown",
   "metadata": {},
   "source": [
    "## 07. テンプレートによる文生成\n",
    "引数x, y, zを受け取り「x時のyはz」という文字列を返す関数を実装せよ．さらに，x=12, y=\"気温\", z=22.4として，実行結果を確認せよ．"
   ]
  },
  {
   "cell_type": "code",
   "execution_count": 9,
   "metadata": {},
   "outputs": [
    {
     "name": "stdout",
     "output_type": "stream",
     "text": [
      "12時の天気は22.4\n"
     ]
    }
   ],
   "source": [
    "#7\n",
    "def news(x,y,z):\n",
    "    text = str(x) + '時の' + str(y) + 'は' + str(z)\n",
    "    return text\n",
    "\n",
    "print(news(12,'天気', 22.4))"
   ]
  },
  {
   "cell_type": "markdown",
   "metadata": {},
   "source": [
    "## 08. 暗号文\n",
    "与えられた文字列の各文字を，以下の仕様で変換する関数cipherを実装せよ．\n",
    "\n",
    "* 英小文字ならば(219 - 文字コード)の文字に置換\n",
    "* その他の文字はそのまま出力\n",
    "\n",
    "\n",
    "この関数を用い，英語のメッセージを暗号化・復号化せよ．"
   ]
  },
  {
   "cell_type": "code",
   "execution_count": 10,
   "metadata": {},
   "outputs": [
    {
     "name": "stdout",
     "output_type": "stream",
     "text": [
      "I am a IRONMAN\n"
     ]
    }
   ],
   "source": [
    "#8\n",
    "def cipher(text):\n",
    "    t_r = ''\n",
    "    for t in text:\n",
    "        if ord(t) in range(97,123):\n",
    "            t_r += chr(219 - ord(t))\n",
    "            continue\n",
    "        t_r += t\n",
    "    return t_r\n",
    "\n",
    "text ='I am a IRONMAN'\n",
    "a = cipher(text)\n",
    "print(cipher(a))"
   ]
  },
  {
   "cell_type": "markdown",
   "metadata": {},
   "source": [
    "## 09. Typoglycemia\n",
    "スペースで区切られた単語列に対して，各単語の先頭と末尾の文字は残し，それ以外の文字の順序をランダムに並び替えるプログラムを作成せよ．ただし，長さが４以下の単語は並び替えないこととする．適当な英語の文（例えば\"I couldn't believe that I could actually understand what I was reading : the phenomenal power of the human mind .\"）を与え，その実行結果を確認せよ．\n",
    "\n"
   ]
  },
  {
   "cell_type": "code",
   "execution_count": 11,
   "metadata": {},
   "outputs": [
    {
     "name": "stdout",
     "output_type": "stream",
     "text": [
      "I cudl'not bleveie that I colud atuaclly usdnenartd what I was radenig : the paehnmeonl power of the hmaun mind . \n"
     ]
    }
   ],
   "source": [
    "#9\n",
    "text = \"I couldn't believe that I could actually understand what I was reading : the phenomenal power of the human mind .\"\n",
    "words = text.split(' ')\n",
    "new_text = ''\n",
    "for word in words:\n",
    "    if len(word) > 4:\n",
    "        shuffle = list(word[1:-1])\n",
    "        random.shuffle(shuffle)\n",
    "        shuffle.insert(0,word[0])\n",
    "        shuffle.append(word[-1:])\n",
    "        new_word = ''.join(shuffle)\n",
    "        new_text += new_word + ' '\n",
    "        continue\n",
    "    new_text += word + ' '\n",
    "\n",
    "print(new_text)"
   ]
  }
 ],
 "metadata": {
  "kernelspec": {
   "display_name": "Python 3",
   "language": "python",
   "name": "python3"
  },
  "language_info": {
   "codemirror_mode": {
    "name": "ipython",
    "version": 3
   },
   "file_extension": ".py",
   "mimetype": "text/x-python",
   "name": "python",
   "nbconvert_exporter": "python",
   "pygments_lexer": "ipython3",
   "version": "3.7.0"
  }
 },
 "nbformat": 4,
 "nbformat_minor": 2
}
