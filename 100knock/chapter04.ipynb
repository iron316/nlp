{
 "cells": [
  {
   "cell_type": "code",
   "execution_count": 2,
   "metadata": {},
   "outputs": [
    {
     "name": "stdout",
     "output_type": "stream",
     "text": [
      "\u001b[01;34m.\u001b[00m\n",
      "├── chapter01.ipynb\n",
      "├── chapter02.ipynb\n",
      "├── chapter03.ipynb\n",
      "├── chapter04.ipynb\n",
      "├── hightemp.txt\n",
      "├── jawiki-country.json\n",
      "├── neko.pickle\n",
      "├── neko.txt\n",
      "├── neko.txt.json\n",
      "├── neko.txt.mecab\n",
      "└── \u001b[01;34mout\u001b[00m\n",
      "    ├── col1+2.txt\n",
      "    ├── col1.txt\n",
      "    ├── col2.txt\n",
      "    ├── split0.txt\n",
      "    ├── split1.txt\n",
      "    ├── split2.txt\n",
      "    ├── split3.txt\n",
      "    ├── split4.txt\n",
      "    ├── splitaa\n",
      "    ├── splitab\n",
      "    ├── splitac\n",
      "    ├── splitad\n",
      "    └── splitae\n",
      "\n",
      "1 directory, 23 files\n"
     ]
    }
   ],
   "source": [
    "#!wget http://www.cl.ecei.tohoku.ac.jp/nlp100/data/neko.txt\n",
    "!tree"
   ]
  },
  {
   "cell_type": "code",
   "execution_count": 3,
   "metadata": {
    "scrolled": false
   },
   "outputs": [],
   "source": [
    "import MeCab\n",
    "import json\n",
    "import pickle\n",
    "#text = \"ほのかちゃんは僕に有能って言ってくれるから好き！！\"\n",
    "\n",
    "with open(\"neko.txt\",\"r\") as rf:\n",
    "    text = rf.read()\n",
    "text = text.replace(\"\\n\",\"\")\n",
    "t = MeCab.Tagger('-Ochasen')\n",
    "t.parse('')\n",
    "node = t.parseToNode(text)\n",
    "dict_list = []\n",
    "while node:\n",
    "    surface = node.surface\n",
    "    feature = node.feature.split(\",\")\n",
    "    if feature[0] != 'BOS/EOS':\n",
    "        dict_list.append({\n",
    "            'surface': surface,\n",
    "            'pos': feature[0],\n",
    "            'pos1': feature[1],\n",
    "            'pos2': feature[2],\n",
    "            'pos3': feature[3],\n",
    "            'form1': feature[4],\n",
    "            'form2': feature[5],\n",
    "            'baseform': feature[6],\n",
    "                })\n",
    "    node = node.next \n",
    "\n",
    "#with open(\"neko.txt.json\",\"a\") as af:\n",
    "#    json.dump(dict_list,af)\n",
    "with open('neko.pickle', 'wb') as f:\n",
    "    pickle.dump(dict_list, f)"
   ]
  },
  {
   "cell_type": "markdown",
   "metadata": {},
   "source": [
    "## 30. 形態素解析結果の読み込み\n",
    "形態素解析結果（neko.txt.mecab）を読み込むプログラムを実装せよ．ただし，各形態素は表層形（surface），基本形（base），品詞（pos），品詞細分類1（pos1）をキーとするマッピング型に格納し，1文を形態素（マッピング型）のリストとして表現せよ．第4章の残りの問題では，ここで作ったプログラムを活用せよ．"
   ]
  },
  {
   "cell_type": "code",
   "execution_count": 4,
   "metadata": {},
   "outputs": [],
   "source": [
    "# 多分できてる"
   ]
  },
  {
   "cell_type": "markdown",
   "metadata": {},
   "source": [
    "## 31. 動詞\n",
    "動詞の表層形をすべて抽出せよ．"
   ]
  },
  {
   "cell_type": "code",
   "execution_count": 5,
   "metadata": {},
   "outputs": [
    {
     "name": "stdout",
     "output_type": "stream",
     "text": [
      "生れ\n",
      "つか\n",
      "し\n",
      "泣い\n",
      "し\n",
      "いる\n",
      "始め\n",
      "見\n",
      "聞く\n",
      "捕え\n",
      "煮\n",
      "食う\n"
     ]
    }
   ],
   "source": [
    "with open(\"neko.pickle\", \"rb\") as f:\n",
    "    dict_list = pickle.load(f,encoding=\"utf-8\")\n",
    "\n",
    "for word in dict_list[:100]:\n",
    "    if word['pos'] == \"動詞\":\n",
    "        print(word['surface'])"
   ]
  },
  {
   "cell_type": "markdown",
   "metadata": {},
   "source": [
    "## 32. 動詞の原形\n",
    "動詞の原形をすべて抽出せよ．"
   ]
  },
  {
   "cell_type": "code",
   "execution_count": 6,
   "metadata": {},
   "outputs": [
    {
     "name": "stdout",
     "output_type": "stream",
     "text": [
      "生れる\n",
      "つく\n",
      "する\n",
      "泣く\n",
      "する\n",
      "いる\n",
      "始める\n",
      "見る\n",
      "聞く\n",
      "捕える\n",
      "煮る\n",
      "食う\n"
     ]
    }
   ],
   "source": [
    "for word in dict_list[:100]:\n",
    "    if word['pos'] == \"動詞\":\n",
    "        print(word['baseform'])"
   ]
  },
  {
   "cell_type": "markdown",
   "metadata": {},
   "source": [
    "## 33. サ変名詞\n",
    "サ変接続の名詞をすべて抽出せよ．"
   ]
  },
  {
   "cell_type": "code",
   "execution_count": 7,
   "metadata": {},
   "outputs": [
    {
     "name": "stdout",
     "output_type": "stream",
     "text": [
      "見当\n",
      "記憶\n",
      "話\n"
     ]
    }
   ],
   "source": [
    "for word in dict_list[:100]:\n",
    "    if word['pos1'] == \"サ変接続\":\n",
    "        print(word['baseform'])"
   ]
  },
  {
   "cell_type": "markdown",
   "metadata": {},
   "source": [
    "## 34. 「AのB」\n",
    "2つの名詞が「の」で連結されている名詞句を抽出せよ． "
   ]
  },
  {
   "cell_type": "code",
   "execution_count": 8,
   "metadata": {},
   "outputs": [
    {
     "name": "stdout",
     "output_type": "stream",
     "text": [
      "彼 掌\n",
      "掌 上\n",
      "書生 顔\n",
      "はず 顔\n",
      "顔 真中\n",
      "穴 中\n",
      "書生 掌\n",
      "掌 裏\n",
      "何 事\n",
      "肝心 母親\n",
      "藁 上\n",
      "笹原 中\n",
      "池 前\n",
      "池 上\n",
      "一樹 蔭\n",
      "垣根 穴\n",
      "隣家 三\n",
      "時 通路\n",
      "一刻 猶予\n",
      "家 内\n",
      "彼 書生\n",
      "以外 人間\n",
      "前 書生\n",
      "おさん 隙\n",
      "おさん 三\n"
     ]
    }
   ],
   "source": [
    "for i,word in enumerate(dict_list[:1000]):\n",
    "    if word['surface'] == \"の\":\n",
    "        pan = dict_list[i-1]\n",
    "        bou = dict_list[i+1]\n",
    "        if pan['pos'] == \"名詞\" and bou['pos'] == \"名詞\":\n",
    "            print(pan['surface'],bou['surface'])"
   ]
  },
  {
   "cell_type": "markdown",
   "metadata": {},
   "source": [
    "## 35. 名詞の連接\n",
    "名詞の連接（連続して出現する名詞）を最長一致で抽出せよ．"
   ]
  },
  {
   "cell_type": "code",
   "execution_count": 9,
   "metadata": {},
   "outputs": [
    {
     "name": "stdout",
     "output_type": "stream",
     "text": [
      "['人間', '中']\n",
      "['一番', '獰悪']\n",
      "['時', '妙']\n",
      "['一', '毛']\n",
      "['その後', '猫']\n",
      "['一', '度']\n",
      "['ぷうぷうと', '煙']\n",
      "['邸', '内']\n",
      "['三', '毛']\n",
      "['書生', '以外']\n",
      "['四', '五', '遍']\n",
      "['五', '遍']\n",
      "['この間', 'おさん']\n",
      "['三', '馬']\n"
     ]
    }
   ],
   "source": [
    "for i,word in enumerate(dict_list[:1000]):\n",
    "    if word['pos'] == \"名詞\":\n",
    "        words = []\n",
    "        while dict_list[i]['pos'] == \"名詞\":\n",
    "            words.append(dict_list[i]['surface'])\n",
    "            i += 1\n",
    "        if len(words) > 1:\n",
    "            print(words)"
   ]
  },
  {
   "cell_type": "markdown",
   "metadata": {},
   "source": [
    "## 36. 単語の出現頻度\n",
    "文章中に出現する単語とその出現頻度を求め，出現頻度の高い順に並べよ．"
   ]
  },
  {
   "cell_type": "code",
   "execution_count": 10,
   "metadata": {},
   "outputs": [
    {
     "name": "stdout",
     "output_type": "stream",
     "text": [
      "[('の', 9194), ('。', 7484), ('て', 6873), ('、', 6772), ('は', 6422), ('に', 6268), ('を', 6071), ('と', 5515), ('が', 5339), ('た', 3989)]\n"
     ]
    }
   ],
   "source": [
    "import collections\n",
    "c = collections.Counter([d['surface'] for d in dict_list])\n",
    "print(c.most_common(10))"
   ]
  },
  {
   "cell_type": "markdown",
   "metadata": {},
   "source": [
    "## 37. 頻度上位10語\n",
    "出現頻度が高い10語とその出現頻度をグラフ（例えば棒グラフなど）で表示せよ．"
   ]
  },
  {
   "cell_type": "code",
   "execution_count": 12,
   "metadata": {},
   "outputs": [
    {
     "data": {
      "text/plain": [
       "<function matplotlib.pyplot.show(*args, **kw)>"
      ]
     },
     "execution_count": 12,
     "metadata": {},
     "output_type": "execute_result"
    },
    {
     "data": {
      "image/png": "[encoded data removed]",
      "text/plain": [
       "<Figure size 432x288 with 1 Axes>"
      ]
     },
     "metadata": {
      "needs_background": "light"
     },
     "output_type": "display_data"
    }
   ],
   "source": [
    "c10 = c.most_common(10)\n",
    "\n",
    "x = [word for (word, _) in c10]\n",
    "y = [freq for (_, freq) in c10]\n",
    "\n",
    "import matplotlib.pyplot as plt\n",
    "plt.bar(x,y)\n",
    "plt.show"
   ]
  },
  {
   "cell_type": "markdown",
   "metadata": {},
   "source": [
    "## 38. ヒストグラム\n",
    "単語の出現頻度のヒストグラム（横軸に出現頻度，縦軸に出現頻度をとる単語の種類数を棒グラフで表したもの）を描け．"
   ]
  },
  {
   "cell_type": "code",
   "execution_count": 13,
   "metadata": {},
   "outputs": [
    {
     "data": {
      "text/plain": [
       "<function matplotlib.pyplot.show(*args, **kw)>"
      ]
     },
     "execution_count": 13,
     "metadata": {},
     "output_type": "execute_result"
    },
    {
     "data": {
      "image/png": "[encoded data removed]",
      "text/plain": [
       "<Figure size 432x288 with 1 Axes>"
      ]
     },
     "metadata": {
      "needs_background": "light"
     },
     "output_type": "display_data"
    }
   ],
   "source": [
    "x = [word for word, _ in c.items()]\n",
    "y = [freq for _, freq in c.items()]\n",
    "plt.bar(x[:100],y[:100])\n",
    "plt.show"
   ]
  },
  {
   "cell_type": "markdown",
   "metadata": {},
   "source": [
    "## 39. Zipfの法則\n",
    "単語の出現頻度順位を横軸，その出現頻度を縦軸として，両対数グラフをプロットせよ．"
   ]
  },
  {
   "cell_type": "code",
   "execution_count": 17,
   "metadata": {},
   "outputs": [
    {
     "data": {
      "text/plain": [
       "<function matplotlib.pyplot.show(*args, **kw)>"
      ]
     },
     "execution_count": 17,
     "metadata": {},
     "output_type": "execute_result"
    },
    {
     "data": {
      "image/png": "[encoded data removed]",
      "text/plain": [
       "<Figure size 432x288 with 1 Axes>"
      ]
     },
     "metadata": {
      "needs_background": "light"
     },
     "output_type": "display_data"
    }
   ],
   "source": [
    "y = [freq for (_, freq) in c.most_common()]\n",
    "x = range(1,len(y)+1)\n",
    "plt.xscale(\"log\")\n",
    "plt.yscale(\"log\")\n",
    "plt.scatter(x,y)\n",
    "plt.show"
   ]
  },
  {
   "cell_type": "code",
   "execution_count": null,
   "metadata": {},
   "outputs": [],
   "source": []
  }
 ],
 "metadata": {
  "kernelspec": {
   "display_name": "Python 3",
   "language": "python",
   "name": "python3"
  },
  "language_info": {
   "codemirror_mode": {
    "name": "ipython",
    "version": 3
   },
   "file_extension": ".py",
   "mimetype": "text/x-python",
   "name": "python",
   "nbconvert_exporter": "python",
   "pygments_lexer": "ipython3",
   "version": "3.6.7"
  }
 },
 "nbformat": 4,
 "nbformat_minor": 2
}
