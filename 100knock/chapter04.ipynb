{
 "cells": [
  {
   "cell_type": "code",
   "execution_count": 4,
   "metadata": {},
   "outputs": [
    {
     "name": "stdout",
     "output_type": "stream",
     "text": [
      "\u001b[01;34m.\u001b[00m\r\n",
      "├── chapter01.ipynb\r\n",
      "├── chapter02.ipynb\r\n",
      "├── chapter03.ipynb\r\n",
      "├── chapter04.ipynb\r\n",
      "├── hightemp.txt\r\n",
      "├── jawiki-country.json\r\n",
      "├── neko.txt\r\n",
      "└── \u001b[01;34mout\u001b[00m\r\n",
      "    ├── col1+2.txt\r\n",
      "    ├── col1.txt\r\n",
      "    ├── col2.txt\r\n",
      "    ├── split0.txt\r\n",
      "    ├── split1.txt\r\n",
      "    ├── split2.txt\r\n",
      "    ├── split3.txt\r\n",
      "    ├── split4.txt\r\n",
      "    ├── splitaa\r\n",
      "    ├── splitab\r\n",
      "    ├── splitac\r\n",
      "    ├── splitad\r\n",
      "    └── splitae\r\n",
      "\r\n",
      "1 directory, 20 files\r\n"
     ]
    }
   ],
   "source": [
    "#!wget http://www.cl.ecei.tohoku.ac.jp/nlp100/data/neko.txt\n",
    "!tree"
   ]
  },
  {
   "cell_type": "code",
   "execution_count": 6,
   "metadata": {},
   "outputs": [
    {
     "ename": "ModuleNotFoundError",
     "evalue": "No module named 'MeCab'",
     "output_type": "error",
     "traceback": [
      "\u001b[0;31m---------------------------------------------------------------------------\u001b[0m",
      "\u001b[0;31mModuleNotFoundError\u001b[0m                       Traceback (most recent call last)",
      "\u001b[0;32m<ipython-input-6-022fc4ee216d>\u001b[0m in \u001b[0;36m<module>\u001b[0;34m()\u001b[0m\n\u001b[0;32m----> 1\u001b[0;31m \u001b[0;32mimport\u001b[0m \u001b[0mMeCab\u001b[0m\u001b[0;34m\u001b[0m\u001b[0m\n\u001b[0m",
      "\u001b[0;31mModuleNotFoundError\u001b[0m: No module named 'MeCab'"
     ]
    }
   ],
   "source": [
    "import MeCab"
   ]
  },
  {
   "cell_type": "markdown",
   "metadata": {},
   "source": [
    "## "
   ]
  }
 ],
 "metadata": {
  "kernelspec": {
   "display_name": "Python 3",
   "language": "python",
   "name": "python3"
  },
  "language_info": {
   "codemirror_mode": {
    "name": "ipython",
    "version": 3
   },
   "file_extension": ".py",
   "mimetype": "text/x-python",
   "name": "python",
   "nbconvert_exporter": "python",
   "pygments_lexer": "ipython3",
   "version": "3.7.0"
  }
 },
 "nbformat": 4,
 "nbformat_minor": 2
}
